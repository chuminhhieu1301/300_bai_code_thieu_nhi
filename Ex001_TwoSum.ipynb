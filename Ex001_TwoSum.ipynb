{
 "cells": [
  {
   "cell_type": "code",
   "execution_count": null,
   "metadata": {},
   "outputs": [],
   "source": [
    "class Solution(object):\n",
    "    def twosum(self, nums, target):\n",
    "        for a in range(len(nums)):\n",
    "            for b in range(a + 1, len(nums)):\n",
    "                if nums[a] + nums[b] == target:\n",
    "                    return [a, b]\n",
    "        return[]\n",
    "\n",
    "solution = Solution()\n",
    "print(solution.twosum([5, 2, 7, 11, 15], 9))\n",
    "\n",
    "\"\"\" Cách giải:\n",
    "\n",
    "Hướng suy nghĩ: So sánh tổng của số đầu tiên lần lượt với các số khác trong list, \n",
    "nếu không có kết quả thì tiếp tục so sánh tổng của số thứ 2 với các số khác trong list.\n",
    "Nếu đúng: trả về kết quả.\n",
    "Nếu sai: trả về class rỗng.\n",
    "\n",
    "- a là số hạng đầu tiên của list\n",
    "- b là số hạng liền sau a \n",
    "- số số hạng bằng độ dài class\n",
    "- So sánh lần lượt tổng của số hạng đầu tiên với từng số hạng trong list - tức là so sánh nums[a] + nums[b] == target hoặc != target.\n",
    "- Trong trường hợp == target, return [a, b]\n",
    "- Trong trường hợp != target, return []\n",
    "\n",
    "\"\"\""
   ]
  }
 ],
 "metadata": {
  "kernelspec": {
   "display_name": "Python 3",
   "language": "python",
   "name": "python3"
  },
  "language_info": {
   "codemirror_mode": {
    "name": "ipython",
    "version": 3
   },
   "file_extension": ".py",
   "mimetype": "text/x-python",
   "name": "python",
   "nbconvert_exporter": "python",
   "pygments_lexer": "ipython3",
   "version": "3.13.1"
  }
 },
 "nbformat": 4,
 "nbformat_minor": 2
}
